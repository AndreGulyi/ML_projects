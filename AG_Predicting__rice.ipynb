{
  "nbformat": 4,
  "nbformat_minor": 0,
  "metadata": {
    "colab": {
      "private_outputs": true,
      "provenance": [],
      "mount_file_id": "1AnDJakZJHStw0ne-xUBwFcDwXtg7LNHV",
      "authorship_tag": "ABX9TyOS2Hfydprmn+5KHa03gTj+",
      "include_colab_link": true
    },
    "kernelspec": {
      "name": "python3",
      "display_name": "Python 3"
    },
    "language_info": {
      "name": "python"
    }
  },
  "cells": [
    {
      "cell_type": "markdown",
      "metadata": {
        "id": "view-in-github",
        "colab_type": "text"
      },
      "source": [
        "<a href=\"https://colab.research.google.com/github/AndreGulyi/ML_projects/blob/main/AG_Predicting__rice.ipynb\" target=\"_parent\"><img src=\"https://colab.research.google.com/assets/colab-badge.svg\" alt=\"Open In Colab\"/></a>"
      ]
    },
    {
      "cell_type": "code",
      "execution_count": null,
      "metadata": {
        "id": "Z4Fm09xo7y5k"
      },
      "outputs": [],
      "source": [
        "import pandas as pd\n",
        "import numpy as np\n",
        "import xgboost\n",
        "from xgboost import XGBRegressor\n",
        "from lightgbm import LGBMRegressor\n",
        "import sklearn\n",
        "from sklearn import tree\n",
        "from sklearn import svm\n",
        "from sklearn import neighbors\n",
        "from sklearn import linear_model\n",
        "from sklearn.model_selection import train_test_split\n",
        "from sklearn.metrics import r2_score\n",
        "from sklearn.metrics import mean_squared_error\n",
        "from sklearn.neural_network import MLPRegressor\n",
        "from sklearn.ensemble import RandomForestRegressor\n"
      ]
    },
    {
      "cell_type": "code",
      "source": [
        "df = pd.read_csv(\"/content/drive/MyDrive/ML/AG.Projects/Predicting Price/sample.csv\")"
      ],
      "metadata": {
        "id": "BbAkFEjG8FoM"
      },
      "execution_count": null,
      "outputs": []
    },
    {
      "cell_type": "code",
      "source": [
        "df.info()"
      ],
      "metadata": {
        "id": "Pvgl3QxG8Mzw"
      },
      "execution_count": null,
      "outputs": []
    },
    {
      "cell_type": "code",
      "source": [
        "df.describe()"
      ],
      "metadata": {
        "id": "1f8HNI148kUO"
      },
      "execution_count": null,
      "outputs": []
    },
    {
      "cell_type": "code",
      "source": [
        "df.head(10)"
      ],
      "metadata": {
        "id": "wST6rD5I8oUt"
      },
      "execution_count": null,
      "outputs": []
    },
    {
      "cell_type": "markdown",
      "source": [
        "Data Manipulation"
      ],
      "metadata": {
        "id": "YhFFTIza9__r"
      }
    },
    {
      "cell_type": "code",
      "source": [
        "df[\"loc1\"].value_counts()"
      ],
      "metadata": {
        "id": "yvz99tQ89we7"
      },
      "execution_count": null,
      "outputs": []
    },
    {
      "cell_type": "code",
      "source": [
        "df[\"loc2\"].value_counts()"
      ],
      "metadata": {
        "id": "67sawL7P-OK2"
      },
      "execution_count": null,
      "outputs": []
    },
    {
      "cell_type": "code",
      "source": [
        "df = df[(df[\"loc1\"].str.contains(\"S\") == False)&(df[\"loc1\"].str.contains(\"T\") == False)]\n",
        "df.shape"
      ],
      "metadata": {
        "id": "Qd0-_D6--cIQ"
      },
      "execution_count": null,
      "outputs": []
    },
    {
      "cell_type": "code",
      "source": [
        "df[\"loc1\"] = pd.to_numeric(df[\"loc1\"], errors=\"coerce\")\n",
        "df[\"loc2\"] = pd.to_numeric(df[\"loc2\"], errors=\"coerce\")\n",
        "df.dropna(inplace=True)\n",
        "df.shape"
      ],
      "metadata": {
        "id": "e4IB7fOATPuf"
      },
      "execution_count": null,
      "outputs": []
    },
    {
      "cell_type": "markdown",
      "source": [
        "Data Type Changing"
      ],
      "metadata": {
        "id": "djGNy-iNUC1Y"
      }
    },
    {
      "cell_type": "code",
      "source": [
        "days_dummies = pd.get_dummies(df.dow)\n",
        "days_dummies.head()"
      ],
      "metadata": {
        "id": "ixBaAX1WUDYq"
      },
      "execution_count": null,
      "outputs": []
    },
    {
      "cell_type": "code",
      "source": [
        "df2 =  df.copy(deep=True)\n",
        "df2.drop(columns = 'dow', inplace =True)"
      ],
      "metadata": {
        "id": "vvxPswhPUOQR"
      },
      "execution_count": null,
      "outputs": []
    },
    {
      "cell_type": "code",
      "source": [
        "result =  df2.join(days_dummies)\n",
        "result.head()"
      ],
      "metadata": {
        "id": "OUu3DKPyUbmo"
      },
      "execution_count": null,
      "outputs": []
    },
    {
      "cell_type": "markdown",
      "source": [
        "Checking Outliers and Correlations"
      ],
      "metadata": {
        "id": "8P-peP66Uy4k"
      }
    },
    {
      "cell_type": "code",
      "source": [
        "from pandas.plotting import scatter_matrix\n",
        "_ = scatter_matrix(result.iloc[:,0:7], figsize=(12, 8))"
      ],
      "metadata": {
        "id": "R-lGOeYsUjfY"
      },
      "execution_count": null,
      "outputs": []
    },
    {
      "cell_type": "code",
      "source": [
        "pd.DataFrame((result.corr()['price'])).sort_values(by='price', ascending = False).round(2)"
      ],
      "metadata": {
        "id": "os1BEyEbVAud"
      },
      "execution_count": null,
      "outputs": []
    },
    {
      "cell_type": "code",
      "source": [
        "three_best = ['para2','para4','para3']  \n",
        "five_best = ['para2','para4','para3','para1','Fri'] "
      ],
      "metadata": {
        "id": "NZp2aSijWsFD"
      },
      "execution_count": null,
      "outputs": []
    },
    {
      "cell_type": "markdown",
      "source": [
        "# Machine Learning\n",
        "Regression Models"
      ],
      "metadata": {
        "id": "pDrCJlWDWj6P"
      }
    },
    {
      "cell_type": "markdown",
      "source": [],
      "metadata": {
        "id": "mbQc8sNvWcUK"
      }
    },
    {
      "cell_type": "code",
      "source": [
        "feature_sets = {\n",
        "    \"full_dataset\": result.drop(columns=['price']),\n",
        "    \"three_best\": result[three_best],\n",
        "    \"five_best\": result[five_best],  \n",
        "}"
      ],
      "metadata": {
        "id": "9GPJo8adVtKA"
      },
      "execution_count": null,
      "outputs": []
    },
    {
      "cell_type": "code",
      "source": [
        "regression_models = {\n",
        "    'Ridge':linear_model.Ridge(random_state=8),\n",
        "    'DecisionTree':tree.DecisionTreeRegressor(random_state=8, max_depth=5),\n",
        "    'RandomForest':RandomForestRegressor(random_state=8),\n",
        "    'XGBoost': XGBRegressor(random_state=8),\n",
        "    'LGMB': LGBMRegressor(random_state=8),\n",
        "    'MLP':MLPRegressor(random_state=8),\n",
        "}"
      ],
      "metadata": {
        "id": "2q7_WcZ4XImx"
      },
      "execution_count": null,
      "outputs": []
    },
    {
      "cell_type": "code",
      "source": [
        "def make_regression(x_train, y_train, x_test, y_test, model, model_name, verbose=True):\n",
        "\n",
        "    model.fit(x_train,y_train)\n",
        "    \n",
        "    y_predict=model.predict(x_train)\n",
        "    train_error = mean_squared_error(y_train, y_predict, squared=False)\n",
        "    \n",
        "    y_predict =model.predict(x_test)\n",
        "    test_error = mean_squared_error(y_test, y_predict, squared=False)\n",
        "    \n",
        "    y_predict=model.predict(x_train)\n",
        "    r2 = r2_score(y_train, y_predict)\n",
        "    \n",
        "    if verbose:\n",
        "        print(\"----Model name = {}-----\".format(model_name))\n",
        "        print(\"Train error = \"'{}'.format(train_error.round(1)))\n",
        "        print(\"Test error = \"'{}'.format(test_error.round(1)))\n",
        "        print(\"r2_score = \"'{}'.format(r2.round(2)))\n",
        "        print(\"--------------------------------\")\n",
        "    \n",
        "    trained_model = model\n",
        "    \n",
        "    return trained_model, y_predict, train_error, test_error, r2"
      ],
      "metadata": {
        "id": "SXZP_mAkZFpH"
      },
      "execution_count": null,
      "outputs": []
    },
    {
      "cell_type": "code",
      "source": [
        "pred_dict = {\n",
        "    \"regression_model\": [],\n",
        "    \"feature_set\": [],\n",
        "    \"Train Error\": [],\n",
        "    \"Test Error\": [],\n",
        "    \"R2\" : []\n",
        "}"
      ],
      "metadata": {
        "id": "FKXUjcSwVq_x"
      },
      "execution_count": null,
      "outputs": []
    },
    {
      "cell_type": "code",
      "source": [
        "for feature_set_name in feature_sets.keys():\n",
        "    \n",
        "    feature_set = feature_sets[feature_set_name]\n",
        "    print(\"Included columns are {}\".format(feature_set_name))\n",
        "    for model_name in regression_models.keys():        \n",
        "        \n",
        "        y = result[\"price\"]\n",
        "        x = feature_set\n",
        "        x_train, x_test, y_train, y_test = train_test_split(x, y, test_size=0.15, random_state=8)\n",
        "    \n",
        "\n",
        "        trained_model, y_predict, train_error, test_error, r2 = make_regression(x_train, y_train, x_test, y_test, regression_models[model_name], model_name, verbose=True)\n",
        "\n",
        "\n",
        "        pred_dict[\"regression_model\"].append(model_name)\n",
        "        pred_dict[\"feature_set\"].append(feature_set_name)\n",
        "        pred_dict[\"Train Error\"].append(train_error)\n",
        "        pred_dict[\"Test Error\"].append(test_error)\n",
        "        pred_dict[\"R2\"].append(r2)"
      ],
      "metadata": {
        "id": "2RfJkOrzVmTZ"
      },
      "execution_count": null,
      "outputs": []
    },
    {
      "cell_type": "code",
      "source": [
        "pred_df = pd.DataFrame(pred_dict)\n",
        "pred_df.head(5)"
      ],
      "metadata": {
        "id": "tbrHI-mQVjt5"
      },
      "execution_count": null,
      "outputs": []
    },
    {
      "cell_type": "code",
      "source": [],
      "metadata": {
        "id": "YJLPB8HXU-gd"
      },
      "execution_count": null,
      "outputs": []
    },
    {
      "cell_type": "code",
      "source": [],
      "metadata": {
        "id": "hJvxilQvT_s7"
      },
      "execution_count": null,
      "outputs": []
    },
    {
      "cell_type": "code",
      "source": [],
      "metadata": {
        "id": "oNhkTrPoT6zr"
      },
      "execution_count": null,
      "outputs": []
    },
    {
      "cell_type": "code",
      "source": [],
      "metadata": {
        "id": "eDX7_7SdTOD3"
      },
      "execution_count": null,
      "outputs": []
    },
    {
      "cell_type": "code",
      "source": [],
      "metadata": {
        "id": "CVnqKuNMSJnR"
      },
      "execution_count": null,
      "outputs": []
    },
    {
      "cell_type": "code",
      "source": [],
      "metadata": {
        "id": "Mogf-_Ug-MB4"
      },
      "execution_count": null,
      "outputs": []
    }
  ]
}