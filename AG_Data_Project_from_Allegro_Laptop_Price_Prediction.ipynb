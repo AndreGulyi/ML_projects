{
  "nbformat": 4,
  "nbformat_minor": 0,
  "metadata": {
    "colab": {
      "private_outputs": true,
      "provenance": [],
      "mount_file_id": "15kzW0KiU7ul_8Ad8Tf-pqq0xlsWG8AU0",
      "authorship_tag": "ABX9TyN5PBR/eut6v5EQYpDz4PZj",
      "include_colab_link": true
    },
    "kernelspec": {
      "name": "python3",
      "display_name": "Python 3"
    },
    "language_info": {
      "name": "python"
    }
  },
  "cells": [
    {
      "cell_type": "markdown",
      "metadata": {
        "id": "view-in-github",
        "colab_type": "text"
      },
      "source": [
        "<a href=\"https://colab.research.google.com/github/AndreGulyi/ML_projects/blob/main/AG_Data_Project_from_Allegro_Laptop_Price_Prediction.ipynb\" target=\"_parent\"><img src=\"https://colab.research.google.com/assets/colab-badge.svg\" alt=\"Open In Colab\"/></a>"
      ]
    },
    {
      "cell_type": "markdown",
      "source": [
        "# Laptop Price Prediction\n",
        "\n",
        "---\n",
        "My task is to define and train a machine learning model for predicting the price of a laptop (*buynow_price* column in the dataset) based on its attributes. When testing and comparing your models, aim to minimize the RMSE measure."
      ],
      "metadata": {
        "id": "H81xJ5cQp7ME"
      }
    },
    {
      "cell_type": "code",
      "execution_count": null,
      "metadata": {
        "id": "S8RP34frpLZO"
      },
      "outputs": [],
      "source": [
        "import pandas as pd\n",
        "import numpy as np"
      ]
    },
    {
      "cell_type": "code",
      "source": [
        "#read dataset \n",
        "train_df = pd.read_json('/content/drive/MyDrive/ML/AG.Projects/Data Project from Allegro_Laptop Price Prediction/train_dataset.json')\n",
        "test_df = pd.read_json('/content/drive/MyDrive/ML/AG.Projects/Data Project from Allegro_Laptop Price Prediction/test_dataset.json')\n",
        "val_df = pd.read_json('/content/drive/MyDrive/ML/AG.Projects/Data Project from Allegro_Laptop Price Prediction/val_dataset.json')"
      ],
      "metadata": {
        "id": "k_Po852AqeDZ"
      },
      "execution_count": null,
      "outputs": []
    },
    {
      "cell_type": "code",
      "source": [
        "train_df.head()"
      ],
      "metadata": {
        "id": "YcKWvR8mquKs"
      },
      "execution_count": null,
      "outputs": []
    },
    {
      "cell_type": "code",
      "source": [
        "df = pd.concat([train_df, test_df, val_df], axis=0)\n",
        "df.head(3)"
      ],
      "metadata": {
        "id": "YtFEoZPRsAPU"
      },
      "execution_count": null,
      "outputs": []
    },
    {
      "cell_type": "code",
      "source": [
        "df.dtypes"
      ],
      "metadata": {
        "id": "XtFgHpm0sQeq"
      },
      "execution_count": null,
      "outputs": []
    },
    {
      "cell_type": "code",
      "source": [
        "df.shape"
      ],
      "metadata": {
        "id": "XhcbA9-zsQVU"
      },
      "execution_count": null,
      "outputs": []
    },
    {
      "cell_type": "code",
      "source": [
        "# want look at unique values\n",
        "for col in df.columns.to_list():\n",
        "  if type(df[col][0]) != list:\n",
        "    print(f\"unique values of {col} are:\", df[col].unique())\n",
        "    print(\"-------\")"
      ],
      "metadata": {
        "id": "3FAFFb_HsYuY"
      },
      "execution_count": null,
      "outputs": []
    },
    {
      "cell_type": "code",
      "source": [
        "#state with only 1 value so we could drop it\n",
        "df = df.drop(columns=[\"state\"])\n",
        "df.dropna() # how to drop na most effective?"
      ],
      "metadata": {
        "id": "8ylKho62tbYq"
      },
      "execution_count": null,
      "outputs": []
    },
    {
      "cell_type": "code",
      "source": [
        "#we 4 columns as list. so we should split their values to different columns\n",
        "list_columns = [\"communications\",\"operating system\", \"input devices\", \"multimedia\"]\n"
      ],
      "metadata": {
        "id": "1f_IOoIzuRSC"
      },
      "execution_count": null,
      "outputs": []
    }
  ]
}